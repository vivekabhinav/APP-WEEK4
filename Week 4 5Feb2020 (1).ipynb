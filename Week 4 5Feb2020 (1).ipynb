{
 "cells": [
  {
   "cell_type": "markdown",
   "metadata": {
    "colab_type": "text",
    "id": "BQKLhhNLXflg"
   },
   "source": [
    "1. For the given input numbers = {2, 4, 6, 8}, use map () function to double all the input numbers and double it again using python program"
   ]
  },
  {
   "cell_type": "code",
   "execution_count": 0,
   "metadata": {
    "colab": {},
    "colab_type": "code",
    "id": "H52CJ5lcXfli",
    "outputId": "4d3b1af4-94fc-4134-9b0a-f1edd0228c7a"
   },
   "outputs": [
    {
     "name": "stdout",
     "output_type": "stream",
     "text": [
      "Enter the elements:2 4 6 8\n",
      "Using Map function: [4, 8, 12, 16]\n",
      "Using Multiplication: [8, 16, 24, 32]\n"
     ]
    }
   ],
   "source": [
    "def mul(n):\n",
    "    return 2*n\n",
    "lst=()\n",
    "lst= list(map(int, input(\"Enter the elements:\").split()))\n",
    "result=map(mul,lst)\n",
    "print(\"Using Map function:\",list(result))\n",
    "for i in range(len(lst)):\n",
    "    lst[i]=lst[i]*4 \n",
    "print(\"Using Multiplication:\",lst)"
   ]
  },
  {
   "cell_type": "markdown",
   "metadata": {
    "colab_type": "text",
    "id": "9VU1h2jlXfln"
   },
   "source": [
    "2.Write the python program to add two lists of input [1,2,3,4,5,6] and [4,6,12,3,2,1] using map and lambda and then perform multiplication for the resultant value off add with the input list [4,2,8,3,2,1]"
   ]
  },
  {
   "cell_type": "code",
   "execution_count": 0,
   "metadata": {
    "colab": {},
    "colab_type": "code",
    "id": "jmcA7YpqXflo",
    "outputId": "0a3d1f63-7633-4115-fe81-473abc76f10c"
   },
   "outputs": [
    {
     "name": "stdout",
     "output_type": "stream",
     "text": [
      "Enter first list:1 2 3 4 5 6\n",
      "Enter second list:4 6 12 3 2 1\n",
      "[5, 8, 15, 7, 7, 7]\n"
     ]
    }
   ],
   "source": [
    "numbers1 = []\n",
    "numbers2 = []\n",
    "numbers1=map(int,input(\"Enter first list:\").split())\n",
    "numbers2=map(int,input(\"Enter second list:\").split())  \n",
    "result = map(lambda x, y: x + y, numbers1, numbers2) \n",
    "print(list(result))"
   ]
  },
  {
   "cell_type": "markdown",
   "metadata": {
    "colab_type": "text",
    "id": "QIKKTnxgXflq"
   },
   "source": [
    "3.Get the List of strings as input and list of strings individually as character using map () function using python program. "
   ]
  },
  {
   "cell_type": "code",
   "execution_count": 0,
   "metadata": {
    "colab": {},
    "colab_type": "code",
    "id": "5evcNFGIXflr",
    "outputId": "8c1386f3-b3eb-4ccb-ffa7-dd01d4c50c69"
   },
   "outputs": [
    {
     "name": "stdout",
     "output_type": "stream",
     "text": [
      "Enter the list of strings:Tanmaya CSE E1\n",
      "[['T', 'a', 'n', 'm', 'a', 'y', 'a'], ['C', 'S', 'E'], ['E', '1']]\n"
     ]
    }
   ],
   "source": [
    "lstring=list(map(str,input(\"Enter the list of strings:\").split()))\n",
    "ls=list(map(list,lstring))\n",
    "print(ls)"
   ]
  },
  {
   "cell_type": "markdown",
   "metadata": {
    "colab_type": "text",
    "id": "r3_xcSJ3Xflu"
   },
   "source": [
    "4.Write the python program the calculate cube of a number by using def () and lambda () function."
   ]
  },
  {
   "cell_type": "code",
   "execution_count": 0,
   "metadata": {
    "colab": {},
    "colab_type": "code",
    "id": "C5pz8H2MXflw",
    "outputId": "0ec71c11-99a3-4794-840a-3b53b0586e01"
   },
   "outputs": [
    {
     "name": "stdout",
     "output_type": "stream",
     "text": [
      "Enter the number:3\n",
      "By using def(): 27\n",
      "By using lambda(): 27\n"
     ]
    }
   ],
   "source": [
    "def cube(n):\n",
    "    return n*n*n\n",
    "x=int(input(\"Enter the number:\"))\n",
    "print(\"By using def():\",cube(x))\n",
    "res=lambda x:x**3\n",
    "print(\"By using lambda():\",res(x))"
   ]
  },
  {
   "cell_type": "markdown",
   "metadata": {
    "colab_type": "text",
    "id": "B_ejNT6iXfl0"
   },
   "source": [
    "5.Write the python program to return the numbers divisible by 4 from the input list = [21, 24, 12, 34, 10, 15, 41] using lambda and filter function.\n"
   ]
  },
  {
   "cell_type": "code",
   "execution_count": 0,
   "metadata": {
    "colab": {},
    "colab_type": "code",
    "id": "jIBBXq0qXfl0",
    "outputId": "e5f945aa-dcd3-4a51-a5a1-1c4abcbefae8"
   },
   "outputs": [
    {
     "name": "stdout",
     "output_type": "stream",
     "text": [
      "Enter the list of numbers:21 24 12 34 10 15 41\n",
      "Numbers divisible by 4: [24, 12]\n"
     ]
    }
   ],
   "source": [
    "lst=list(map(int,input(\"Enter the list of numbers:\").split()))\n",
    "divlst=list(filter(lambda x: x%4==0,lst))\n",
    "print(\"Numbers divisible by 4:\",divlst)"
   ]
  },
  {
   "cell_type": "markdown",
   "metadata": {
    "colab_type": "text",
    "id": "LPX9-hShXfl4"
   },
   "source": [
    "6.Write the python program to get the multiplication and sum from the list of input = [10, 24, 34, 42, 19] using lambda and reduce function. "
   ]
  },
  {
   "cell_type": "code",
   "execution_count": 15,
   "metadata": {
    "colab": {
     "base_uri": "https://localhost:8080/",
     "height": 68
    },
    "colab_type": "code",
    "executionInfo": {
     "elapsed": 8897,
     "status": "ok",
     "timestamp": 1582621744124,
     "user": {
      "displayName": "Tanmaya Harichandan",
      "photoUrl": "https://lh3.googleusercontent.com/a-/AAuE7mAAtq8AQBn0KmEnHnZRSaEpOmguzAph4UiPeynxDA=s64",
      "userId": "17641704283842291393"
     },
     "user_tz": -330
    },
    "id": "7C779utBXfl5",
    "outputId": "89ef6fa6-b4b8-4995-dcbd-8ab2ff4c4086"
   },
   "outputs": [
    {
     "name": "stdout",
     "output_type": "stream",
     "text": [
      "Enter the list elements:10 24 34 42 19\n",
      "The sum of the list elements is : 129\n",
      "The product of list elements is : 6511680\n"
     ]
    }
   ],
   "source": [
    "import functools \n",
    "import operator  \n",
    "lis =input(\"Enter the list elements:\").split()\n",
    "lst=lis.copy()\n",
    "for i in range(len(lis)):\n",
    "    lis[i]=int(lis[i])\n",
    "for i in range(len(lst)):\n",
    "    lst[i]=int(lst[i])\n",
    "print (\"The sum of the list elements is : \",end=\"\") \n",
    "print (functools.reduce(operator.add,lis)) \n",
    "print (\"The product of list elements is : \",end=\"\") \n",
    "print (functools.reduce(operator.mul,lst)) \n",
    "  \n"
   ]
  },
  {
   "cell_type": "markdown",
   "metadata": {
    "colab_type": "text",
    "id": "se8wYe2NnC0n"
   },
   "source": [
    "7.Write the python program to add two lists of input [1,2,3,4,5,6] and [4,6,12,3,2,1] using map and lambda and then perform division for each subsequent value in each list and store the resultant value as a list ‘X’ and the ‘X’ each value is modulo with 2 and store it as ‘Y’ list. "
   ]
  },
  {
   "cell_type": "code",
   "execution_count": 4,
   "metadata": {
    "colab": {
     "base_uri": "https://localhost:8080/",
     "height": 265
    },
    "colab_type": "code",
    "executionInfo": {
     "elapsed": 11865,
     "status": "error",
     "timestamp": 1582623449461,
     "user": {
      "displayName": "Tanmaya Harichandan",
      "photoUrl": "https://lh3.googleusercontent.com/a-/AAuE7mAAtq8AQBn0KmEnHnZRSaEpOmguzAph4UiPeynxDA=s64",
      "userId": "17641704283842291393"
     },
     "user_tz": -330
    },
    "id": "0rpUZFmWoS33",
    "outputId": "8355d862-3c80-45d2-b12c-3c64bc0be3a9"
   },
   "outputs": [
    {
     "name": "stdout",
     "output_type": "stream",
     "text": [
      "Enter elements of first list:1 2 3 4 5 6\n",
      "Enter elements of second list:4 6 12 3 2 1\n",
      "[5, 8, 15, 7, 7, 7]\n",
      "X list: [0.25, 0.3333333333333333, 0.25, 1.3333333333333333, 2.5, 6.0]\n",
      "Y list: [0.25, 0.3333333333333333, 0.25, 1.3333333333333333, 0.5, 0.0]\n"
     ]
    }
   ],
   "source": [
    "from operator import truediv\n",
    "ls1=input(\"Enter elements of first list:\").split()\n",
    "ls2=input(\"Enter elements of second list:\").split()\n",
    "for i in range(len(ls1)):\n",
    "    ls1[i]=int(ls1[i])\n",
    "for i in range(len(ls2)):\n",
    "    ls2[i]=int(ls2[i])\n",
    "add=list(map(lambda a,b:a+b,ls1,ls2))\n",
    "print(add)\n",
    "X =list(map(truediv, ls1,ls2))\n",
    "print(\"X list:\",X)\n",
    "Y=list(map(lambda x:x%2,X))\n",
    "print(\"Y list:\",Y)"
   ]
  },
  {
   "cell_type": "markdown",
   "metadata": {
    "colab": {},
    "colab_type": "code",
    "id": "2YL2zcSGovRW"
   },
   "source": [
    "8.Write the python program to select the sequence of number less than 2 from the input list = [4, 5, 1, -2,       -3, 7, 9] using filter function. "
   ]
  },
  {
   "cell_type": "code",
   "execution_count": 6,
   "metadata": {},
   "outputs": [
    {
     "name": "stdout",
     "output_type": "stream",
     "text": [
      "Enter the list:4 5 1 -2 -3 7 9\n",
      "New list: [1, -2, -3]\n"
     ]
    }
   ],
   "source": [
    "ls=list(map(int,input(\"Enter the list:\").split()))\n",
    "lnw=list(filter(lambda x:x<2,ls))\n",
    "print(\"New list:\",lnw)"
   ]
  },
  {
   "cell_type": "markdown",
   "metadata": {},
   "source": [
    "9.Write the python program to calculate Fahrenheit and Celsius using map () function and print the temperature in Fahrenheit and Celsius."
   ]
  },
  {
   "cell_type": "code",
   "execution_count": 8,
   "metadata": {},
   "outputs": [
    {
     "name": "stdout",
     "output_type": "stream",
     "text": [
      "Input list of temperatures in fahrenheit:98.5 101 102 203 104\n",
      "Fahrenheit List: [98.5, 101.0, 102.0, 203.0, 104.0]\n",
      "Celcius List: [36.94444444444444, 38.333333333333336, 38.88888888888889, 95.0, 40.0]\n"
     ]
    }
   ],
   "source": [
    "def calCelsius(F):\n",
    "    C = ((5.0/9.0)*(F - 32))\n",
    "    return C \n",
    "\n",
    "fah_temp =list(map(float,input(\"Input list of temperatures in fahrenheit:\").split())) \n",
    "conv_temp = (map(calCelsius, fah_temp)) \n",
    "Cel_lst = list(conv_temp)\n",
    "print(\"Fahrenheit List:\",fah_temp)\n",
    "print(\"Celcius List:\",Cel_lst)"
   ]
  },
  {
   "cell_type": "markdown",
   "metadata": {},
   "source": [
    "10.Write the python program to calculate the sequence of the first 11 Fibonacci numbers and filter out first the odd and then the even elements from the sequence of the first 11 Fibonacci numbers. "
   ]
  },
  {
   "cell_type": "code",
   "execution_count": 22,
   "metadata": {},
   "outputs": [
    {
     "name": "stdout",
     "output_type": "stream",
     "text": [
      "Fibonacci sequence: [0, 1, 1, 2, 3, 5, 8, 13, 21, 34, 55]\n",
      "Even Fibonacci sequence: [0, 2, 8, 34]\n",
      "Odd Fibonacci sequence: [1, 1, 3, 5, 13, 21, 55]\n"
     ]
    }
   ],
   "source": [
    "def Fibonacci(n): \n",
    "    if n<0: \n",
    "        print(\"Incorrect input\") \n",
    "    elif n==1: \n",
    "        return 0\n",
    "    elif n==2: \n",
    "        return 1\n",
    "    else: \n",
    "        return Fibonacci(n-1)+Fibonacci(n-2)\n",
    "lst=[0]*12\n",
    "for i in range(1,12):\n",
    "    lst[i]=(Fibonacci(i))\n",
    "lst.remove(0)\n",
    "print(\"Fibonacci sequence:\",lst)\n",
    "even=list(filter(lambda x:x%2==0,lst))\n",
    "odd=list(filter(lambda x:x%2!=0,lst))\n",
    "print(\"Even Fibonacci sequence:\",even)\n",
    "print(\"Odd Fibonacci sequence:\",odd)"
   ]
  }
 ],
 "metadata": {
  "colab": {
   "collapsed_sections": [],
   "name": "Week 4 5Feb2020.ipynb",
   "provenance": []
  },
  "kernelspec": {
   "display_name": "Python 3",
   "language": "python",
   "name": "python3"
  }
 },
 "nbformat": 4,
 "nbformat_minor": 1
}
